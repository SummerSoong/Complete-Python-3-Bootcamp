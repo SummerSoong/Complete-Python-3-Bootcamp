{
 "cells": [
  {
   "cell_type": "markdown",
   "metadata": {},
   "source": [
    "___\n",
    "\n",
    "<a href='https://www.udemy.com/user/joseportilla/'><img src='../Pierian_Data_Logo.png'/></a>\n",
    "___\n",
    "<center><em>Content Copyright by Pierian Data</em></center>"
   ]
  },
  {
   "cell_type": "markdown",
   "metadata": {},
   "source": [
    "# Milestone Project 1: Walkthrough Steps Workbook\n",
    "\n",
    "Below is a set of steps for you to follow to try to create the Tic Tac Toe Milestone Project game!"
   ]
  },
  {
   "cell_type": "markdown",
   "metadata": {},
   "source": [
    "#### Some suggested tools before you get started:\n",
    "To take input from a user:\n",
    "\n",
    "    player1 = input(\"Please pick a marker 'X' or 'O'\")\n",
    "    \n",
    "Note that input() takes in a string. If you need an integer value, use\n",
    "\n",
    "    position = int(input('Please enter a number'))\n",
    "    \n",
    "<br>To clear the screen between moves:\n",
    "\n",
    "    from IPython.display import clear_output\n",
    "    clear_output()\n",
    "    \n",
    "Note that clear_output() will only work in jupyter. To clear the screen in other IDEs, consider:\n",
    "\n",
    "    print('\\n'*100)\n",
    "    \n",
    "This scrolls the previous board up out of view. Now on to the program!"
   ]
  },
  {
   "cell_type": "markdown",
   "metadata": {},
   "source": [
    "**Step 1: Write a function that can print out a board. Set up your board as a list, where each index 1-9 corresponds with a number on a number pad, so you get a 3 by 3 board representation.**"
   ]
  },
  {
   "cell_type": "code",
   "execution_count": 76,
   "metadata": {
    "collapsed": true
   },
   "outputs": [],
   "source": [
    "from IPython.display import clear_output\n",
    "\n",
    "def display_board(board):\n",
    "\tclear_output()\n",
    "\trow_1 = f\"{board[7]}|{board[8]}|{board[9]}\"\n",
    "\trow_2 = \"_ _ _\"\n",
    "\trow_3 = f\"{board[4]}|{board[5]}|{board[6]}\"\n",
    "\trow_4 = \"_ _ _\"\n",
    "\trow_5 = f\"{board[1]}|{board[2]}|{board[3]}\"\n",
    "\tprint(row_1)\n",
    "\tprint(row_2)\n",
    "\tprint(row_3)\n",
    "\tprint(row_4)\n",
    "\tprint(row_5)"
   ]
  },
  {
   "cell_type": "markdown",
   "metadata": {},
   "source": [
    "**TEST Step 1:** run your function on a test version of the board list, and make adjustments as necessary"
   ]
  },
  {
   "cell_type": "code",
   "execution_count": 77,
   "metadata": {
    "collapsed": true
   },
   "outputs": [
    {
     "name": "stdout",
     "output_type": "stream",
     "text": [
      "X|O|X\n",
      "_ _ _\n",
      "O|X|O\n",
      "_ _ _\n",
      "X|O|X\n"
     ]
    }
   ],
   "source": [
    "test_board = ['#','X','O','X','O','X','O','X','O','X']\n",
    "display_board(test_board)"
   ]
  },
  {
   "cell_type": "markdown",
   "metadata": {},
   "source": [
    "**Step 2: Write a function that can take in a player input and assign their marker as 'X' or 'O'. Think about using *while* loops to continually ask until you get a correct answer.**"
   ]
  },
  {
   "cell_type": "code",
   "execution_count": 78,
   "metadata": {
    "collapsed": true
   },
   "outputs": [],
   "source": [
    "def player_input():\n",
    "\tplayer = ''\n",
    "\twhile not (player == 'O' or player == 'X'):\n",
    "\t\tprint('Please input O or X')\n",
    "\t\tplayer = input('Choose O or X').upper()\n",
    "\t\n",
    "\tif player == 'X':\n",
    "\t\treturn ('X', 'O')\n",
    "\telse:\n",
    "\t\treturn ('O', 'X')"
   ]
  },
  {
   "cell_type": "markdown",
   "metadata": {},
   "source": [
    "**TEST Step 2:** run the function to make sure it returns the desired output"
   ]
  },
  {
   "cell_type": "code",
   "execution_count": 79,
   "metadata": {
    "collapsed": true
   },
   "outputs": [
    {
     "name": "stdout",
     "output_type": "stream",
     "text": [
      "Please input O or X\n"
     ]
    },
    {
     "data": {
      "text/plain": [
       "('X', 'O')"
      ]
     },
     "execution_count": 79,
     "metadata": {},
     "output_type": "execute_result"
    }
   ],
   "source": [
    "player_input()"
   ]
  },
  {
   "cell_type": "markdown",
   "metadata": {},
   "source": [
    "**Step 3: Write a function that takes in the board list object, a marker ('X' or 'O'), and a desired position (number 1-9) and assigns it to the board.**"
   ]
  },
  {
   "cell_type": "code",
   "execution_count": 80,
   "metadata": {
    "collapsed": true
   },
   "outputs": [],
   "source": [
    "def place_marker(board, marker, position):\n",
    "\tboard[position]=marker"
   ]
  },
  {
   "cell_type": "markdown",
   "metadata": {},
   "source": [
    "**TEST Step 3:** run the place marker function using test parameters and display the modified board"
   ]
  },
  {
   "cell_type": "code",
   "execution_count": 81,
   "metadata": {},
   "outputs": [
    {
     "name": "stdout",
     "output_type": "stream",
     "text": [
      "X|$|X\n",
      "_ _ _\n",
      "O|X|O\n",
      "_ _ _\n",
      "X|O|X\n"
     ]
    }
   ],
   "source": [
    "place_marker(test_board,'$',8)\n",
    "display_board(test_board)"
   ]
  },
  {
   "cell_type": "markdown",
   "metadata": {},
   "source": [
    "**Step 4: Write a function that takes in a board and a mark (X or O) and then checks to see if that mark has won. **"
   ]
  },
  {
   "cell_type": "code",
   "execution_count": 82,
   "metadata": {
    "collapsed": true
   },
   "outputs": [],
   "source": [
    "def win_check(board, mark):\n",
    "\tcheck = {}\n",
    "\tcheck['row1'] = [board[1], board[2], board[3]]\n",
    "\tcheck['row2'] = [board[4], board[5], board[6]]\n",
    "\tcheck['row3'] = [board[7], board[8], board[9]]\n",
    "\tcheck['col1'] = [board[1], board[4], board[7]]\n",
    "\tcheck['col1'] = [board[2], board[5], board[8]]\n",
    "\tcheck['col1'] = [board[3], board[6], board[9]]\n",
    "\tcheck['cross1']=[board[7], board[5], board[3]]\n",
    "\tcheck['cross2']=[board[9], board[5], board[1]]\n",
    "\tfor one_line in check.values():\n",
    "\t\tif len(set(one_line)) == 1 and one_line[0] == mark:\n",
    "\t\t\treturn True\n",
    "\treturn False\n",
    "\n",
    "\t\t\t"
   ]
  },
  {
   "cell_type": "markdown",
   "metadata": {},
   "source": [
    "**TEST Step 4:** run the win_check function against our test_board - it should return True"
   ]
  },
  {
   "cell_type": "code",
   "execution_count": 83,
   "metadata": {
    "collapsed": true
   },
   "outputs": [
    {
     "data": {
      "text/plain": [
       "True"
      ]
     },
     "execution_count": 83,
     "metadata": {},
     "output_type": "execute_result"
    }
   ],
   "source": [
    "win_check(test_board,'X')"
   ]
  },
  {
   "cell_type": "markdown",
   "metadata": {},
   "source": [
    "**Step 5: Write a function that uses the random module to randomly decide which player goes first. You may want to lookup random.randint() Return a string of which player went first.**"
   ]
  },
  {
   "cell_type": "code",
   "execution_count": 84,
   "metadata": {
    "collapsed": true
   },
   "outputs": [],
   "source": [
    "import random\n",
    "\n",
    "def choose_first():\n",
    "\tfirst = random.randint(0,1)\n",
    "\tif first == 0:\n",
    "\t\treturn \"Player 1\"\n",
    "\telse:\n",
    "\t\treturn \"Player 2\""
   ]
  },
  {
   "cell_type": "markdown",
   "metadata": {},
   "source": [
    "**Step 6: Write a function that returns a boolean indicating whether a space on the board is freely available.**"
   ]
  },
  {
   "cell_type": "code",
   "execution_count": 85,
   "metadata": {
    "collapsed": true
   },
   "outputs": [],
   "source": [
    "def space_check(board, position):\n",
    "    return board[position] == \" \""
   ]
  },
  {
   "cell_type": "markdown",
   "metadata": {},
   "source": [
    "**Step 7: Write a function that checks if the board is full and returns a boolean value. True if full, False otherwise.**"
   ]
  },
  {
   "cell_type": "code",
   "execution_count": 86,
   "metadata": {
    "collapsed": true
   },
   "outputs": [],
   "source": [
    "def full_board_check(board):\n",
    "\tfor space in range(1,10):\n",
    "\t\tif space_check(board, space):\n",
    "\t\t\treturn False\n",
    "\treturn True"
   ]
  },
  {
   "cell_type": "markdown",
   "metadata": {},
   "source": [
    "**Step 8: Write a function that asks for a player's next position (as a number 1-9) and then uses the function from step 6 to check if it's a free position. If it is, then return the position for later use.**"
   ]
  },
  {
   "cell_type": "code",
   "execution_count": 87,
   "metadata": {
    "collapsed": true
   },
   "outputs": [],
   "source": [
    "def player_choice(board):\n",
    "\tavalable_choices = range(1, 9)\n",
    "\tchoice = 0\n",
    "\twhile not (choice in avalable_choices and space_check(board, choice)):\n",
    "\t\tchoice = int(input(\"Choose next position from 1 to 9: \"))\n",
    "\tif space_check(board, choice):\n",
    "\t\treturn choice\n"
   ]
  },
  {
   "cell_type": "markdown",
   "metadata": {},
   "source": [
    "**Step 9: Write a function that asks the player if they want to play again and returns a boolean True if they do want to play again.**"
   ]
  },
  {
   "cell_type": "code",
   "execution_count": 88,
   "metadata": {
    "collapsed": true
   },
   "outputs": [],
   "source": [
    "def replay():\n",
    "\tavailbale_answer = ['y', 'n']\n",
    "\tanswer = ''\n",
    "\twhile not answer in availbale_answer:\n",
    "\t\tanswer = input(\"Do you want to continue the game? y or n: \")[0].lower()\n",
    "\treturn answer == 'y'"
   ]
  },
  {
   "cell_type": "markdown",
   "metadata": {
    "collapsed": true
   },
   "source": [
    "**Step 10: Here comes the hard part! Use while loops and the functions you've made to run the game!**"
   ]
  },
  {
   "cell_type": "code",
   "execution_count": 89,
   "metadata": {
    "collapsed": true
   },
   "outputs": [
    {
     "name": "stdout",
     "output_type": "stream",
     "text": [
      "Welcome to Tic Tac Toe!\n",
      "Welcome to Tic Tac Toe\n",
      "Please input O or X\n",
      "Player 2 will go first\n",
      " | | \n",
      "_ _ _\n",
      " | | \n",
      "_ _ _\n",
      " | | \n",
      " | | \n",
      "_ _ _\n",
      " | | \n",
      "_ _ _\n",
      " | |O\n",
      " | | \n",
      "_ _ _\n",
      "X| | \n",
      "_ _ _\n",
      " | |O\n",
      " | | \n",
      "_ _ _\n",
      "X| | \n",
      "_ _ _\n",
      " |O|O\n",
      " | | \n",
      "_ _ _\n",
      "X| | \n",
      "_ _ _\n",
      "X|O|O\n"
     ]
    }
   ],
   "source": [
    "print('Welcome to Tic Tac Toe!')\n",
    "\n",
    "#while True:\n",
    "    # Set the game up here\n",
    "    #pass\n",
    "    #while game_on:\n",
    "        #Player 1 Turn\n",
    "        \n",
    "        \n",
    "        # Player2's turn.\n",
    "            \n",
    "            #pass\n",
    "\n",
    "    #if not replay():\n",
    "        #break\n",
    "print(\"Welcome to Tic Tac Toe\")\n",
    "while True:\n",
    "\tboard = [\" \"]*10\n",
    "\tplayer1_marker, player2_marker = player_input()\n",
    "\tturn = choose_first()\n",
    "\tprint(turn + \" will go first\")\n",
    "\tavailbale_answer = ['y', 'n']\n",
    "\tanswer = ''\n",
    "\twhile not answer in availbale_answer:\n",
    "\t\tanswer = input(\"Ready to play? y or n: \")[0].lower()\n",
    "\tif answer == 'y':\n",
    "\t\tgame_on = True\n",
    "\telse:\n",
    "\t\tgame_on = False\n",
    "\twhile game_on:\n",
    "\t\tif turn == 'Player 1':\n",
    "\t\t\tdisplay_board(board)\n",
    "\t\t\tposition = player_choice(board)\n",
    "\t\t\tplace_marker(board, player1_marker, position)\n",
    "\t\t\tif win_check(board, player1_marker):\n",
    "\t\t\t\tdisplay_board(board)\n",
    "\t\t\t\tprint('Player 1 has WON!!!')\n",
    "\t\t\t\tgame_on = False\n",
    "\t\t\telse:\n",
    "\t\t\t\tif full_board_check(board):\n",
    "\t\t\t\t\tdisplay_board(board)\n",
    "\t\t\t\t\tprint(\"Tie Game!\")\n",
    "\t\t\t\t\tgame_on = False\n",
    "\t\t\t\telse:\n",
    "\t\t\t\t\tturn = 'Player 2'\n",
    "\t\telse:\n",
    "\t\t\tdisplay_board(board)\n",
    "\t\t\tposition = player_choice(board)\n",
    "\t\t\tplace_marker(board, player2_marker, position)\n",
    "\t\t\tif win_check(board, player2_marker):\n",
    "\t\t\t\tdisplay_board(board)\n",
    "\t\t\t\tprint('Player 2 has WON!!!')\n",
    "\t\t\t\tgame_on = False\n",
    "\t\t\telse:\n",
    "\t\t\t\tif full_board_check(board):\n",
    "\t\t\t\t\tdisplay_board(board)\n",
    "\t\t\t\t\tprint(\"Tie Game!\")\n",
    "\t\t\t\t\tgame_on = False\n",
    "\t\t\t\telse:\n",
    "\t\t\t\t\tturn = 'Player 1'\n",
    "\tif not replay():\n",
    "\t\tbreak\n"
   ]
  },
  {
   "cell_type": "markdown",
   "metadata": {
    "collapsed": true
   },
   "source": [
    "## Good Job!"
   ]
  }
 ],
 "metadata": {
  "kernelspec": {
   "display_name": "Python 3.9.12 ('base')",
   "language": "python",
   "name": "python3"
  },
  "language_info": {
   "codemirror_mode": {
    "name": "ipython",
    "version": 3
   },
   "file_extension": ".py",
   "mimetype": "text/x-python",
   "name": "python",
   "nbconvert_exporter": "python",
   "pygments_lexer": "ipython3",
   "version": "3.9.12"
  },
  "vscode": {
   "interpreter": {
    "hash": "8b2a57fdec4f02c355ad8f4980b9fa5c751e4fdbd7a16f6cf9ca8a7cbd03df25"
   }
  }
 },
 "nbformat": 4,
 "nbformat_minor": 1
}
