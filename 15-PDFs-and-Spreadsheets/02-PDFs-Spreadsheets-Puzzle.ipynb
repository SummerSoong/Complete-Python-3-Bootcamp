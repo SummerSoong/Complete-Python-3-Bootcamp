{
 "cells": [
  {
   "cell_type": "markdown",
   "metadata": {},
   "source": [
    "___\n",
    "\n",
    "<a href='https://www.udemy.com/user/joseportilla/'><img src='../Pierian_Data_Logo.png'/></a>\n",
    "___\n",
    "<center><em>Content Copyright by Pierian Data</em></center>"
   ]
  },
  {
   "cell_type": "markdown",
   "metadata": {},
   "source": [
    "# PDFs and Spreadsheets Puzzle Exercise\n",
    "\n",
    "Let's test your skills, the files needed for this puzzle exercise\n",
    "\n",
    "You will need to work with two files for this exercise and solve the following tasks:\n",
    "\n",
    "* Task One: Use Python to extract the Google Drive link from the .csv file. (Hint: Its along the diagonal from top left to bottom right).\n",
    "* Task Two: Download the PDF from the Google Drive link (we already downloaded it for you just in case you can't download from Google Drive) and find the phone number that is in the document. Note: There are different ways of formatting a phone number!"
   ]
  },
  {
   "cell_type": "markdown",
   "metadata": {},
   "source": [
    "## Task One: Grab the Google Drive Link from .csv File"
   ]
  },
  {
   "cell_type": "code",
   "execution_count": 11,
   "metadata": {
    "collapsed": true
   },
   "outputs": [
    {
     "name": "stdout",
     "output_type": "stream",
     "text": [
      "https://drive.google.com/open?id=1G6SEgg018UB4_4xsAJJ5TdzrhmXipr4Q\n"
     ]
    }
   ],
   "source": [
    "import csv\n",
    "data = open('Exercise_Files/find_the_link.csv', encoding='utf-8')\n",
    "csv_data = csv.reader(data)\n",
    "data_lines = list(csv_data)\n",
    "link_str = ''\n",
    "for row_num, data in enumerate(data_lines):\n",
    "\tlink_str += data[row_num]\n",
    "print(link_str)"
   ]
  },
  {
   "cell_type": "code",
   "execution_count": 12,
   "metadata": {},
   "outputs": [],
   "source": [
    "# THe correct result is shown below, if you can't download from Google Drive, \n",
    "# we added the PDF file to the Exercise_Files folder already"
   ]
  },
  {
   "cell_type": "markdown",
   "metadata": {},
   "source": [
    "## Task Two: Download the PDF from the Google Drive link and find the phone number that is in the document. "
   ]
  },
  {
   "cell_type": "code",
   "execution_count": 1,
   "metadata": {
    "collapsed": true
   },
   "outputs": [
    {
     "ename": "ModuleNotFoundError",
     "evalue": "No module named 'PyPDF2'",
     "output_type": "error",
     "traceback": [
      "\u001b[0;31m---------------------------------------------------------------------------\u001b[0m",
      "\u001b[0;31mModuleNotFoundError\u001b[0m                       Traceback (most recent call last)",
      "\u001b[1;32m/Users/songmengrui/code/SummerSoong/python-bootcamp/15-PDFs-and-Spreadsheets/02-PDFs-Spreadsheets-Puzzle.ipynb Cell 7'\u001b[0m in \u001b[0;36m<cell line: 3>\u001b[0;34m()\u001b[0m\n\u001b[1;32m      <a href='vscode-notebook-cell:/Users/songmengrui/code/SummerSoong/python-bootcamp/15-PDFs-and-Spreadsheets/02-PDFs-Spreadsheets-Puzzle.ipynb#ch0000006?line=0'>1</a>\u001b[0m \u001b[39m# You should get this phone number\u001b[39;00m\n\u001b[1;32m      <a href='vscode-notebook-cell:/Users/songmengrui/code/SummerSoong/python-bootcamp/15-PDFs-and-Spreadsheets/02-PDFs-Spreadsheets-Puzzle.ipynb#ch0000006?line=1'>2</a>\u001b[0m \u001b[39m# 505 503 4455\u001b[39;00m\n\u001b[0;32m----> <a href='vscode-notebook-cell:/Users/songmengrui/code/SummerSoong/python-bootcamp/15-PDFs-and-Spreadsheets/02-PDFs-Spreadsheets-Puzzle.ipynb#ch0000006?line=2'>3</a>\u001b[0m \u001b[39mimport\u001b[39;00m \u001b[39mPyPDF2\u001b[39;00m\n\u001b[1;32m      <a href='vscode-notebook-cell:/Users/songmengrui/code/SummerSoong/python-bootcamp/15-PDFs-and-Spreadsheets/02-PDFs-Spreadsheets-Puzzle.ipynb#ch0000006?line=3'>4</a>\u001b[0m f \u001b[39m=\u001b[39m \u001b[39mopen\u001b[39m(\u001b[39m'\u001b[39m\u001b[39mExercise_Files/Find_the_Phone_Number.pdf\u001b[39m\u001b[39m'\u001b[39m, \u001b[39m'\u001b[39m\u001b[39mrb\u001b[39m\u001b[39m'\u001b[39m)\n\u001b[1;32m      <a href='vscode-notebook-cell:/Users/songmengrui/code/SummerSoong/python-bootcamp/15-PDFs-and-Spreadsheets/02-PDFs-Spreadsheets-Puzzle.ipynb#ch0000006?line=4'>5</a>\u001b[0m pdf \u001b[39m=\u001b[39m PyPDF2\u001b[39m.\u001b[39mPdfFileReader(f)\n",
      "\u001b[0;31mModuleNotFoundError\u001b[0m: No module named 'PyPDF2'"
     ]
    }
   ],
   "source": [
    "# You should get this phone number\n",
    "# 505 503 4455\n",
    "import PyPDF2\n",
    "f = open('Exercise_Files/Find_the_Phone_Number.pdf', 'rb')\n",
    "pdf = PyPDF2.PdfFileReader(f)\n",
    "\n",
    "import re\n",
    "pattern = r'\\d{3}.\\d{3}.\\d{4}'\n",
    "all_text = ''\n",
    "for n in range(pdf.numPages):\n",
    "\tpage = pdf.getPage(n)\n",
    "\tpage_text = page.extractText()\n",
    "\tall_text = all_text + ' ' + page_text\n",
    "\n",
    "for match in re.finditer(pattern, all_text):\n",
    "\tprint(match)"
   ]
  }
 ],
 "metadata": {
  "anaconda-cloud": {},
  "kernelspec": {
   "display_name": "Python 3.9.12 ('base')",
   "language": "python",
   "name": "python3"
  },
  "language_info": {
   "codemirror_mode": {
    "name": "ipython",
    "version": 3
   },
   "file_extension": ".py",
   "mimetype": "text/x-python",
   "name": "python",
   "nbconvert_exporter": "python",
   "pygments_lexer": "ipython3",
   "version": "3.9.12"
  },
  "vscode": {
   "interpreter": {
    "hash": "8b2a57fdec4f02c355ad8f4980b9fa5c751e4fdbd7a16f6cf9ca8a7cbd03df25"
   }
  }
 },
 "nbformat": 4,
 "nbformat_minor": 2
}
